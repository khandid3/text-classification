{
  "nbformat": 4,
  "nbformat_minor": 0,
  "metadata": {
    "colab": {
      "name": "text-classification.ipynb",
      "provenance": [],
      "collapsed_sections": []
    },
    "kernelspec": {
      "name": "python3",
      "display_name": "Python 3"
    },
    "language_info": {
      "name": "python"
    }
  },
  "cells": [
    {
      "cell_type": "markdown",
      "source": [
        "WELCOME TO OUR NOTEBOOK FOR THE PROJECT OF BIG SCALES ANALYTICS CLASS.\n",
        "\n",
        "LINK OF THE GITHUB PAGE: https://github.com/khandid3/text-classification\n",
        "\n",
        "THIS PROJECT IS ABOUT DETERMINING THE DIFFICULTY OF A FRENCH TEXT.\n",
        "\n",
        "IT IS A CLASSIFICATION PROBLEM WHERE THE LABELS ARE {A1, A2, B1, B2, C1, C2}.\n",
        "\n",
        "FOR THE CONTEXT OF THE PROJECT, THE METHODOLOGY USED, AND THE EVALUATION METRICS, PLEASE REFER TO THE README ON GITHUB. \n",
        "\n",
        "THE GOALS OF THIS NOTEBOOK IS TO BE ABLE TO CALL THE MODEL FROM GOOGLE CLOUD IN ORDER TO PREDICT THE DIFFICULTY OF A TEXT GIVEN HERE IN THE NOTEBOOK BY THE USER."
      ],
      "metadata": {
        "id": "-_G1TwTw-IhE"
      }
    },
    {
      "cell_type": "code",
      "execution_count": null,
      "metadata": {
        "colab": {
          "base_uri": "https://localhost:8080/"
        },
        "id": "sXq1KMr2zkAz",
        "outputId": "577ff0b1-eb31-456f-b339-da235eaeaec5"
      },
      "outputs": [
        {
          "output_type": "stream",
          "name": "stdout",
          "text": [
            "Authenticated\n"
          ]
        }
      ],
      "source": [
        "from google.colab import auth\n",
        "\n",
        "auth.authenticate_user()\n",
        "print(\"Authenticated\")"
      ]
    },
    {
      "cell_type": "code",
      "source": [
        "!pip install google.cloud.automl"
      ],
      "metadata": {
        "id": "1c2MaFWs1NAF",
        "colab": {
          "base_uri": "https://localhost:8080/"
        },
        "outputId": "1dc3668f-cfe3-4a3a-9e26-932e28ae2fbb"
      },
      "execution_count": null,
      "outputs": [
        {
          "output_type": "stream",
          "name": "stdout",
          "text": [
            "Requirement already satisfied: google.cloud.automl in /usr/local/lib/python3.7/dist-packages (2.7.2)\n",
            "Requirement already satisfied: proto-plus>=1.15.0 in /usr/local/lib/python3.7/dist-packages (from google.cloud.automl) (1.20.4)\n",
            "Requirement already satisfied: google-api-core[grpc]!=2.0.*,!=2.1.*,!=2.2.*,!=2.3.0,<3.0.0dev,>=1.31.5 in /usr/local/lib/python3.7/dist-packages (from google.cloud.automl) (1.31.5)\n",
            "Requirement already satisfied: requests<3.0.0dev,>=2.18.0 in /usr/local/lib/python3.7/dist-packages (from google-api-core[grpc]!=2.0.*,!=2.1.*,!=2.2.*,!=2.3.0,<3.0.0dev,>=1.31.5->google.cloud.automl) (2.23.0)\n",
            "Requirement already satisfied: setuptools>=40.3.0 in /usr/local/lib/python3.7/dist-packages (from google-api-core[grpc]!=2.0.*,!=2.1.*,!=2.2.*,!=2.3.0,<3.0.0dev,>=1.31.5->google.cloud.automl) (57.4.0)\n",
            "Requirement already satisfied: googleapis-common-protos<2.0dev,>=1.6.0 in /usr/local/lib/python3.7/dist-packages (from google-api-core[grpc]!=2.0.*,!=2.1.*,!=2.2.*,!=2.3.0,<3.0.0dev,>=1.31.5->google.cloud.automl) (1.56.1)\n",
            "Requirement already satisfied: pytz in /usr/local/lib/python3.7/dist-packages (from google-api-core[grpc]!=2.0.*,!=2.1.*,!=2.2.*,!=2.3.0,<3.0.0dev,>=1.31.5->google.cloud.automl) (2022.1)\n",
            "Requirement already satisfied: google-auth<2.0dev,>=1.25.0 in /usr/local/lib/python3.7/dist-packages (from google-api-core[grpc]!=2.0.*,!=2.1.*,!=2.2.*,!=2.3.0,<3.0.0dev,>=1.31.5->google.cloud.automl) (1.35.0)\n",
            "Requirement already satisfied: six>=1.13.0 in /usr/local/lib/python3.7/dist-packages (from google-api-core[grpc]!=2.0.*,!=2.1.*,!=2.2.*,!=2.3.0,<3.0.0dev,>=1.31.5->google.cloud.automl) (1.15.0)\n",
            "Requirement already satisfied: packaging>=14.3 in /usr/local/lib/python3.7/dist-packages (from google-api-core[grpc]!=2.0.*,!=2.1.*,!=2.2.*,!=2.3.0,<3.0.0dev,>=1.31.5->google.cloud.automl) (21.3)\n",
            "Requirement already satisfied: protobuf>=3.12.0 in /usr/local/lib/python3.7/dist-packages (from google-api-core[grpc]!=2.0.*,!=2.1.*,!=2.2.*,!=2.3.0,<3.0.0dev,>=1.31.5->google.cloud.automl) (3.20.1)\n",
            "Requirement already satisfied: grpcio<2.0dev,>=1.29.0 in /usr/local/lib/python3.7/dist-packages (from google-api-core[grpc]!=2.0.*,!=2.1.*,!=2.2.*,!=2.3.0,<3.0.0dev,>=1.31.5->google.cloud.automl) (1.46.1)\n",
            "Requirement already satisfied: rsa<5,>=3.1.4 in /usr/local/lib/python3.7/dist-packages (from google-auth<2.0dev,>=1.25.0->google-api-core[grpc]!=2.0.*,!=2.1.*,!=2.2.*,!=2.3.0,<3.0.0dev,>=1.31.5->google.cloud.automl) (4.8)\n",
            "Requirement already satisfied: pyasn1-modules>=0.2.1 in /usr/local/lib/python3.7/dist-packages (from google-auth<2.0dev,>=1.25.0->google-api-core[grpc]!=2.0.*,!=2.1.*,!=2.2.*,!=2.3.0,<3.0.0dev,>=1.31.5->google.cloud.automl) (0.2.8)\n",
            "Requirement already satisfied: cachetools<5.0,>=2.0.0 in /usr/local/lib/python3.7/dist-packages (from google-auth<2.0dev,>=1.25.0->google-api-core[grpc]!=2.0.*,!=2.1.*,!=2.2.*,!=2.3.0,<3.0.0dev,>=1.31.5->google.cloud.automl) (4.2.4)\n",
            "Requirement already satisfied: pyparsing!=3.0.5,>=2.0.2 in /usr/local/lib/python3.7/dist-packages (from packaging>=14.3->google-api-core[grpc]!=2.0.*,!=2.1.*,!=2.2.*,!=2.3.0,<3.0.0dev,>=1.31.5->google.cloud.automl) (3.0.9)\n",
            "Requirement already satisfied: pyasn1<0.5.0,>=0.4.6 in /usr/local/lib/python3.7/dist-packages (from pyasn1-modules>=0.2.1->google-auth<2.0dev,>=1.25.0->google-api-core[grpc]!=2.0.*,!=2.1.*,!=2.2.*,!=2.3.0,<3.0.0dev,>=1.31.5->google.cloud.automl) (0.4.8)\n",
            "Requirement already satisfied: certifi>=2017.4.17 in /usr/local/lib/python3.7/dist-packages (from requests<3.0.0dev,>=2.18.0->google-api-core[grpc]!=2.0.*,!=2.1.*,!=2.2.*,!=2.3.0,<3.0.0dev,>=1.31.5->google.cloud.automl) (2021.10.8)\n",
            "Requirement already satisfied: chardet<4,>=3.0.2 in /usr/local/lib/python3.7/dist-packages (from requests<3.0.0dev,>=2.18.0->google-api-core[grpc]!=2.0.*,!=2.1.*,!=2.2.*,!=2.3.0,<3.0.0dev,>=1.31.5->google.cloud.automl) (3.0.4)\n",
            "Requirement already satisfied: idna<3,>=2.5 in /usr/local/lib/python3.7/dist-packages (from requests<3.0.0dev,>=2.18.0->google-api-core[grpc]!=2.0.*,!=2.1.*,!=2.2.*,!=2.3.0,<3.0.0dev,>=1.31.5->google.cloud.automl) (2.10)\n",
            "Requirement already satisfied: urllib3!=1.25.0,!=1.25.1,<1.26,>=1.21.1 in /usr/local/lib/python3.7/dist-packages (from requests<3.0.0dev,>=2.18.0->google-api-core[grpc]!=2.0.*,!=2.1.*,!=2.2.*,!=2.3.0,<3.0.0dev,>=1.31.5->google.cloud.automl) (1.24.3)\n"
          ]
        }
      ]
    },
    {
      "cell_type": "code",
      "source": [
        "!pip install protobuf==3.19.0"
      ],
      "metadata": {
        "id": "wkxCvyv-102y",
        "colab": {
          "base_uri": "https://localhost:8080/"
        },
        "outputId": "f5211c2f-f47b-4adf-cb9a-095f8a7752a9"
      },
      "execution_count": null,
      "outputs": [
        {
          "output_type": "stream",
          "name": "stdout",
          "text": [
            "Requirement already satisfied: protobuf==3.19.0 in /usr/local/lib/python3.7/dist-packages (3.19.0)\n"
          ]
        }
      ]
    },
    {
      "cell_type": "code",
      "source": [
        "import sys\n",
        "from google.api_core.client_options import ClientOptions\n",
        "from google.cloud import automl"
      ],
      "metadata": {
        "id": "sNaL0nd-_w4_"
      },
      "execution_count": null,
      "outputs": []
    },
    {
      "cell_type": "code",
      "source": [
        "def predict(content):\n",
        "    \"\"\"Predict.\"\"\"\n",
        "    # [START automl_language_text_classification_predict]\n",
        "    from google.cloud import automl\n",
        "\n",
        "    # TODO(developer): Uncomment and set the following variables\n",
        "    project_id = \"bsa-project-349122\"\n",
        "    model_id = \"TCN4652416327166722048\"\n",
        "    \n",
        "    #prediction_client = automl.PredictionServiceClient()\n",
        "\n",
        "    #options = ClientOptions(api_endpoint='automl.googleapis.com')\n",
        "    options = ClientOptions(api_endpoint='eu-automl.googleapis.com') # variant for models saved in EU zone on GCP\n",
        "\n",
        "    prediction_client = automl.PredictionServiceClient.from_service_account_json(\"bsa-project-349122-40a2130972c2.json\", client_options=options)\n",
        "\n",
        "    # Get the full path of the model.\n",
        "    #model_full_id = automl.AutoMlClient.model_path(project_id, \"us-central1\", model_id)\n",
        "    model_full_id = automl.AutoMlClient.model_path(project_id, \"eu\", model_id) # variant for models saved in EU zone on GCP\n",
        "\n",
        "    # Supported mime_types: 'text/plain', 'text/html'\n",
        "    # https://cloud.google.com/automl/docs/reference/rpc/google.cloud.automl.v1#textsnippet\n",
        "    text_snippet = automl.TextSnippet(content=content, mime_type=\"text/plain\")\n",
        "    payload = automl.ExamplePayload(text_snippet=text_snippet)\n",
        "\n",
        "    response = prediction_client.predict(name= model_full_id, payload=payload)\n",
        "\n",
        "    #return response.payload\n",
        "    for annotation_payload in response.payload:\n",
        "        print(u\"Predicted class name: {}\".format(annotation_payload.display_name))\n",
        "        print(\n",
        "            u\"Predicted class score: {}\".format(annotation_payload.classification.score)\n",
        "        )"
      ],
      "metadata": {
        "id": "3VMD9y_Q_sxd"
      },
      "execution_count": null,
      "outputs": []
    },
    {
      "cell_type": "code",
      "source": [
        "#import os\n",
        "\n",
        "#os.environ[\"GOOGLE_APPLICATION_CREDENTIALS\"] = \"/content/bsa-sandbox-101-568a2b3c979b.json\""
      ],
      "metadata": {
        "id": "CH4Evh3yAucz"
      },
      "execution_count": null,
      "outputs": []
    },
    {
      "cell_type": "code",
      "source": [
        "predict(\"Je suis à la maison\")"
      ],
      "metadata": {
        "colab": {
          "base_uri": "https://localhost:8080/"
        },
        "id": "oGUGeqamAB57",
        "outputId": "49ae9e43-7ff7-440b-8011-b1aba706c2d7"
      },
      "execution_count": null,
      "outputs": [
        {
          "output_type": "stream",
          "name": "stdout",
          "text": [
            "Predicted class name: A1\n",
            "Predicted class score: 0.7431779503822327\n",
            "Predicted class name: A2\n",
            "Predicted class score: 0.21947158873081207\n",
            "Predicted class name: B1\n",
            "Predicted class score: 0.037333328276872635\n",
            "Predicted class name: B2\n",
            "Predicted class score: 1.4934031241864432e-05\n",
            "Predicted class name: C1\n",
            "Predicted class score: 1.8443871567797032e-06\n",
            "Predicted class name: C2\n",
            "Predicted class score: 3.00443133482986e-07\n"
          ]
        }
      ]
    }
  ]
}