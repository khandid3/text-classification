{
  "nbformat": 4,
  "nbformat_minor": 0,
  "metadata": {
    "colab": {
      "name": "text-classification.ipynb",
      "provenance": [],
      "collapsed_sections": []
    },
    "kernelspec": {
      "name": "python3",
      "display_name": "Python 3"
    },
    "language_info": {
      "name": "python"
    }
  },
  "cells": [
    {
      "cell_type": "markdown",
      "source": [
        "WELCOME TO MY NOTEBOOK FOR THE PROJECT OF BIG SCALES ANALYTICS CLASS.\n",
        "\n",
        "LINK OF THE GITHUB PAGE: https://github.com/khandid3/text-classification\n",
        "\n",
        "LINK OF THE WEBSITE TO DO MAKE PREDICTIONS: https://bsa-project-349122.ew.r.appspot.com/\n",
        "\n",
        "THIS PROJECT IS ABOUT DETERMINING THE DIFFICULTY OF A FRENCH TEXT.\n",
        "\n",
        "IT IS A CLASSIFICATION PROBLEM WHERE THE LABELS ARE {A1, A2, B1, B2, C1, C2}.\n",
        "\n",
        "FOR THE CONTEXT OF THE PROJECT, THE METHODOLOGY USED, AND THE EVALUATION METRICS, PLEASE REFER TO THE README ON GITHUB. \n",
        "\n",
        "THE GOALS OF THIS NOTEBOOK IS TO BE ABLE TO CALL THE MODEL FROM GOOGLE CLOUD IN ORDER TO PREDICT THE DIFFICULTY OF A TEXT GIVEN HERE IN THE NOTEBOOK BY THE USER."
      ],
      "metadata": {
        "id": "-_G1TwTw-IhE"
      }
    },
    {
      "cell_type": "code",
      "execution_count": 1,
      "metadata": {
        "colab": {
          "base_uri": "https://localhost:8080/"
        },
        "id": "sXq1KMr2zkAz",
        "outputId": "92b03bd8-217f-4166-ea96-b380eb0465fe"
      },
      "outputs": [
        {
          "output_type": "stream",
          "name": "stdout",
          "text": [
            "Authenticated\n"
          ]
        }
      ],
      "source": [
        "from google.colab import auth\n",
        "\n",
        "auth.authenticate_user()\n",
        "print(\"Authenticated\")"
      ]
    },
    {
      "cell_type": "code",
      "source": [
        "!pip install google.cloud.automl"
      ],
      "metadata": {
        "id": "1c2MaFWs1NAF"
      },
      "execution_count": null,
      "outputs": []
    },
    {
      "cell_type": "code",
      "source": [
        "!pip install protobuf==3.19.0"
      ],
      "metadata": {
        "id": "wkxCvyv-102y"
      },
      "execution_count": null,
      "outputs": []
    },
    {
      "cell_type": "code",
      "source": [
        "import sys\n",
        "from google.api_core.client_options import ClientOptions\n",
        "from google.cloud import automl"
      ],
      "metadata": {
        "id": "sNaL0nd-_w4_"
      },
      "execution_count": 2,
      "outputs": []
    },
    {
      "cell_type": "code",
      "source": [
        "def predict(content):\n",
        "    \"\"\"Predict.\"\"\"\n",
        "    # [START automl_language_text_classification_predict]\n",
        "    from google.cloud import automl\n",
        "\n",
        "    # TODO(developer): Uncomment and set the following variables\n",
        "    project_id = \"bsa-project-349122\"\n",
        "    model_id = \"TCN4652416327166722048\"\n",
        "    \n",
        "    #prediction_client = automl.PredictionServiceClient()\n",
        "\n",
        "    #options = ClientOptions(api_endpoint='automl.googleapis.com')\n",
        "    options = ClientOptions(api_endpoint='eu-automl.googleapis.com') # variant for models saved in EU zone on GCP\n",
        "\n",
        "    prediction_client = automl.PredictionServiceClient.from_service_account_json(\"bsa-project-349122-b9ce7ae16ab8.json\", client_options=options)\n",
        "\n",
        "    # Get the full path of the model.\n",
        "    #model_full_id = automl.AutoMlClient.model_path(project_id, \"us-central1\", model_id)\n",
        "    model_full_id = automl.AutoMlClient.model_path(project_id, \"eu\", model_id) # variant for models saved in EU zone on GCP\n",
        "\n",
        "    # Supported mime_types: 'text/plain', 'text/html'\n",
        "    # https://cloud.google.com/automl/docs/reference/rpc/google.cloud.automl.v1#textsnippet\n",
        "    text_snippet = automl.TextSnippet(content=content, mime_type=\"text/plain\")\n",
        "    payload = automl.ExamplePayload(text_snippet=text_snippet)\n",
        "\n",
        "    response = prediction_client.predict(name= model_full_id, payload=payload)\n",
        "\n",
        "    return response.payload\n",
        "    #for annotation_payload in response.payload:\n",
        "    #    print(u\"Predicted class name: {}\".format(annotation_payload.display_name))\n",
        "    #    print(\n",
        "    #        u\"Predicted class score: {}\".format(annotation_payload.classification.score)\n",
        "    #    )"
      ],
      "metadata": {
        "id": "3VMD9y_Q_sxd"
      },
      "execution_count": 5,
      "outputs": []
    },
    {
      "cell_type": "code",
      "source": [
        "predict(\"Voudriez-vous bien nous trouver un point de restauration, afin que nous puissions nous sustenter ?\")[0].display_name"
      ],
      "metadata": {
        "colab": {
          "base_uri": "https://localhost:8080/",
          "height": 58
        },
        "id": "oGUGeqamAB57",
        "outputId": "d3ce67ed-8348-4427-9454-afac9ac01dce"
      },
      "execution_count": 10,
      "outputs": [
        {
          "output_type": "execute_result",
          "data": {
            "text/plain": [
              "'C2'"
            ],
            "application/vnd.google.colaboratory.intrinsic+json": {
              "type": "string"
            }
          },
          "metadata": {},
          "execution_count": 10
        }
      ]
    }
  ]
}