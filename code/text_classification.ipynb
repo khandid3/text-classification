{
  "nbformat": 4,
  "nbformat_minor": 0,
  "metadata": {
    "colab": {
      "name": "text-classification",
      "provenance": [],
      "collapsed_sections": []
    },
    "kernelspec": {
      "name": "python3",
      "display_name": "Python 3"
    },
    "language_info": {
      "name": "python"
    }
  },
  "cells": [
    {
      "cell_type": "markdown",
      "source": [
        "# **TEXT CLASSIFICATION**\n",
        "\n",
        "\n",
        "\n",
        "\n",
        "\n",
        "\n",
        "\n",
        "\n",
        "\n"
      ],
      "metadata": {
        "id": "QszgOqogbgvs"
      }
    },
    {
      "cell_type": "markdown",
      "source": [
        "WELCOME TO OUR NOTEBOOK FOR THE PROJECT OF BIG SCALES ANALYTICS CLASS.\n",
        "\n",
        "THIS PROJECT IS ABOUT DETERMINING THE DIFFICULTY OF A FRENCH TEXT.\n",
        "\n",
        "IT IS A CLASSIFICATION PROBLEM WHERE THE LABELS ARE {A1, A2, B1, B2, C1, C2}.\n",
        "\n",
        "FOR THE CONTEXT OF THE PROJECT, THE METHODOLOGY USED, AND THE EVALUATION METRICS, PLEASE REFER TO THE README ON GITHUB. \n",
        "\n",
        "THE GOALS OF THIS NOTEBOOK IS TO BE ABLE TO CALL THE MODEL FROM GOOGLE CLOUD IN ORDER TO PREDICT THE DIFFICULTY OF A TEXT GIVEN HERE IN THE NOTEBOOK BY THE USER.\n",
        "\n",
        "HOWEVER, WE GOT SOME ISSUES WHILE DOING SO.\n",
        "\n",
        "SEE BELOW."
      ],
      "metadata": {
        "id": "5jfMFQ7kbJ8b"
      }
    },
    {
      "cell_type": "code",
      "source": [
        "import sys\n",
        "\n",
        "from google.api_core.client_options import ClientOptions\n",
        "#from google.cloud import automl_v1\n",
        "import google.cloud\n",
        "from google.cloud import a\n",
        "\n",
        "def inline_text_payload(file_path):\n",
        "    with open(file_path, 'rb') as ff:\n",
        "        content = ff.read()\n",
        "    return {'text_snippet': {'content': content, 'mime_type': 'text/plain'} }\n",
        "\n",
        "def pdf_payload(file_path):\n",
        "    return {'document': {'input_config': {'gcs_source': {'input_uris': [file_path] } } } }\n",
        "\n",
        "def get_prediction(file_path, model_name):\n",
        "    options = ClientOptions(api_endpoint='eu-automl.googleapis.com')\n",
        "    prediction_client = automl_v1.PredictionServiceClient(client_options=options)\n",
        "\n",
        "    payload = inline_text_payload(file_path)\n",
        "    # Uncomment the following line (and comment the above line) if want to predict on PDFs.\n",
        "    # payload = pdf_payload(file_path)\n",
        "\n",
        "    params = {}\n",
        "\n",
        "    request = prediction_client.predict(name=model_name, payload=payload)\n",
        "\n",
        "    return request  # waits until request is returned"
      ],
      "metadata": {
        "colab": {
          "base_uri": "https://localhost:8080/",
          "height": 380
        },
        "id": "W6qj__8xt3EV",
        "outputId": "90619e53-61e3-4977-e096-30441ce78c1c"
      },
      "execution_count": 1,
      "outputs": [
        {
          "output_type": "error",
          "ename": "ImportError",
          "evalue": "ignored",
          "traceback": [
            "\u001b[0;31m---------------------------------------------------------------------------\u001b[0m",
            "\u001b[0;31mImportError\u001b[0m                               Traceback (most recent call last)",
            "\u001b[0;32m<ipython-input-1-0991291baa92>\u001b[0m in \u001b[0;36m<module>\u001b[0;34m()\u001b[0m\n\u001b[1;32m      4\u001b[0m \u001b[0;31m#from google.cloud import automl_v1\u001b[0m\u001b[0;34m\u001b[0m\u001b[0;34m\u001b[0m\u001b[0;34m\u001b[0m\u001b[0m\n\u001b[1;32m      5\u001b[0m \u001b[0;32mimport\u001b[0m \u001b[0mgoogle\u001b[0m\u001b[0;34m.\u001b[0m\u001b[0mcloud\u001b[0m\u001b[0;34m\u001b[0m\u001b[0;34m\u001b[0m\u001b[0m\n\u001b[0;32m----> 6\u001b[0;31m \u001b[0;32mfrom\u001b[0m \u001b[0mgoogle\u001b[0m\u001b[0;34m.\u001b[0m\u001b[0mcloud\u001b[0m \u001b[0;32mimport\u001b[0m \u001b[0ma\u001b[0m\u001b[0;34m\u001b[0m\u001b[0;34m\u001b[0m\u001b[0m\n\u001b[0m\u001b[1;32m      7\u001b[0m \u001b[0;34m\u001b[0m\u001b[0m\n\u001b[1;32m      8\u001b[0m \u001b[0;32mdef\u001b[0m \u001b[0minline_text_payload\u001b[0m\u001b[0;34m(\u001b[0m\u001b[0mfile_path\u001b[0m\u001b[0;34m)\u001b[0m\u001b[0;34m:\u001b[0m\u001b[0;34m\u001b[0m\u001b[0;34m\u001b[0m\u001b[0m\n",
            "\u001b[0;31mImportError\u001b[0m: cannot import name 'a' from 'google.cloud' (unknown location)",
            "",
            "\u001b[0;31m---------------------------------------------------------------------------\u001b[0;32m\nNOTE: If your import is failing due to a missing package, you can\nmanually install dependencies using either !pip or !apt.\n\nTo view examples of installing some common dependencies, click the\n\"Open Examples\" button below.\n\u001b[0;31m---------------------------------------------------------------------------\u001b[0m\n"
          ],
          "errorDetails": {
            "actions": [
              {
                "action": "open_url",
                "actionText": "Open Examples",
                "url": "/notebooks/snippets/importing_libraries.ipynb"
              }
            ]
          }
        }
      ]
    },
    {
      "cell_type": "markdown",
      "source": [
        "I got an error when I want to import automl_v1 from google.cloud package. I was not able to fix it yet.\n",
        "\n",
        "Just below, I try different ways with !pip install command. It was not successfull."
      ],
      "metadata": {
        "id": "U9eJC21gE5WB"
      }
    },
    {
      "cell_type": "code",
      "execution_count": null,
      "metadata": {
        "id": "aVjjYKq2aiyK"
      },
      "outputs": [],
      "source": [
        "import sys\n",
        "\n",
        "from google.api_core.client_options import ClientOptions\n",
        "#!pip install automl_v1\n",
        "!pip install google-cloud-automl\n",
        "#from google.cloud import automl_v1\n",
        "\n",
        "def inline_text_payload(file_path):\n",
        "    with open(file_path, 'rb') as ff:\n",
        "        content = ff.read()\n",
        "    return {'text_snippet': {'content': content, 'mime_type': 'text/plain'} }\n",
        "\n",
        "def pdf_payload(file_path):\n",
        "    return {'document': {'input_config': {'gcs_source': {'input_uris': [file_path] } } } }\n",
        "\n",
        "def get_prediction(file_path, model_name):\n",
        "    options = ClientOptions(api_endpoint='eu-automl.googleapis.com')\n",
        "    #prediction_client = automl_v1.PredictionServiceClient(client_options=options)\n",
        "    prediction_client = automl.PredictionServiceClient(client_options=options)\n",
        "\n",
        "    payload = inline_text_payload(file_path)\n",
        "    # Uncomment the following line (and comment the above line) if want to predict on PDFs.\n",
        "    # payload = pdf_payload(file_path)\n",
        "\n",
        "    params = {}\n",
        "\n",
        "    request = prediction_client.predict(name=model_name, payload=payload)\n",
        "\n",
        "    return request  # waits until request is returned"
      ]
    },
    {
      "cell_type": "code",
      "source": [
        "from google.colab import auth\n",
        "\n",
        "auth.authenticate_user()\n",
        "print(\"Authenticated\")\n",
        "# Create a \"Client\" object\n",
        "client = automl_v1.Client(project=\"bsa-project-349122\")\n",
        "\n",
        "# --------------------------------------\n",
        "\n",
        "text = input(\"enter the text for which you want to predict the difficulty\")\n",
        "text_file = open(\"text_file.txt\", \"w\")\n",
        "text_file.write(text)\n",
        "list_predictions = get_prediction(\"text_file.txt\", \"projects/691497910026/locations/eu/models/TCN465241632716672204\")\n",
        "# bsa-project-349122"
      ],
      "metadata": {
        "id": "wgYqf7LYeM2M"
      },
      "execution_count": null,
      "outputs": []
    }
  ]
}